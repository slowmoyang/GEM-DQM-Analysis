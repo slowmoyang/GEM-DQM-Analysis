{
 "cells": [
  {
   "cell_type": "code",
   "execution_count": 1,
   "metadata": {},
   "outputs": [],
   "source": [
    "import subprocess\n",
    "import shlex\n",
    "import sqlite3\n",
    "import warnings\n",
    "from collections import defaultdict\n",
    "import json\n",
    "from gemdqm.das import run_dasgoclient"
   ]
  },
  {
   "cell_type": "code",
   "execution_count": 2,
   "metadata": {},
   "outputs": [],
   "source": [
    "def dict_factory(cursor, row):\n",
    "    col_names = [col[0] for col in cursor.description]\n",
    "    return {key: value for key, value in zip(col_names, row)}"
   ]
  },
  {
   "cell_type": "code",
   "execution_count": 3,
   "metadata": {},
   "outputs": [
    {
     "name": "stdout",
     "output_type": "stream",
     "text": [
      "running '/cvmfs/cms.cern.ch/common/dasgoclient -limit 0 -query '/SingleMuon/Run2022*ZMu*/RAW-RECO''\n",
      "running '/cvmfs/cms.cern.ch/common/dasgoclient -limit 0 -query '/Muon/Run2022*ZMu*/RAW-RECO''\n"
     ]
    }
   ],
   "source": [
    "dataset_list: list[str] = []\n",
    "dataset_list += run_dasgoclient('/SingleMuon/Run2022*ZMu*/RAW-RECO')\n",
    "dataset_list += run_dasgoclient('/Muon/Run2022*ZMu*/RAW-RECO')"
   ]
  },
  {
   "cell_type": "code",
   "execution_count": 4,
   "metadata": {},
   "outputs": [
    {
     "name": "stdout",
     "output_type": "stream",
     "text": [
      "running '/cvmfs/cms.cern.ch/common/dasgoclient -limit 0 -query 'run dataset=/SingleMuon/Run2022A-ZMu-PromptReco-v1/RAW-RECO''\n",
      "running '/cvmfs/cms.cern.ch/common/dasgoclient -limit 0 -query 'run dataset=/SingleMuon/Run2022B-ZMu-PromptReco-v1/RAW-RECO''\n",
      "running '/cvmfs/cms.cern.ch/common/dasgoclient -limit 0 -query 'run dataset=/SingleMuon/Run2022C-ZMu-PromptReco-v1/RAW-RECO''\n",
      "running '/cvmfs/cms.cern.ch/common/dasgoclient -limit 0 -query 'run dataset=/Muon/Run2022C-ZMu-PromptReco-v1/RAW-RECO''\n",
      "running '/cvmfs/cms.cern.ch/common/dasgoclient -limit 0 -query 'run dataset=/Muon/Run2022D-ZMu-PromptReco-v1/RAW-RECO''\n",
      "running '/cvmfs/cms.cern.ch/common/dasgoclient -limit 0 -query 'run dataset=/Muon/Run2022D-ZMu-PromptReco-v2/RAW-RECO''\n",
      "running '/cvmfs/cms.cern.ch/common/dasgoclient -limit 0 -query 'run dataset=/Muon/Run2022D-ZMu-PromptReco-v3/RAW-RECO''\n"
     ]
    }
   ],
   "source": [
    "dataset_to_runs = {}\n",
    "for dataset in dataset_list:\n",
    "    dataset_to_runs[dataset] = run_dasgoclient(f'run dataset={dataset}')"
   ]
  },
  {
   "cell_type": "code",
   "execution_count": 5,
   "metadata": {},
   "outputs": [],
   "source": [
    "dataset_to_runs = {dataset: sorted(map(int, run_list)) for dataset, run_list in dataset_to_runs.items()}"
   ]
  },
  {
   "cell_type": "code",
   "execution_count": 6,
   "metadata": {},
   "outputs": [
    {
     "name": "stdout",
     "output_type": "stream",
     "text": [
      "/SingleMuon/Run2022A-ZMu-PromptReco-v1/RAW-RECO   : 199 (352499 - 355062)\n",
      "/SingleMuon/Run2022B-ZMu-PromptReco-v1/RAW-RECO   :  90 (355094 - 355769)\n",
      "/SingleMuon/Run2022C-ZMu-PromptReco-v1/RAW-RECO   :  71 (355828 - 356386)\n",
      "/Muon/Run2022C-ZMu-PromptReco-v1/RAW-RECO         : 140 (356426 - 357482)\n",
      "/Muon/Run2022D-ZMu-PromptReco-v1/RAW-RECO         :  25 (357538 - 357733)\n",
      "/Muon/Run2022D-ZMu-PromptReco-v2/RAW-RECO         :  52 (357734 - 357930)\n",
      "/Muon/Run2022D-ZMu-PromptReco-v3/RAW-RECO         :   1 (358381 - 358381)\n"
     ]
    }
   ],
   "source": [
    "for dataset, run_list in dataset_to_runs.items():    \n",
    "    print(f'{dataset: <50s}: {len(run_list): >3d} ({min(run_list)} - {max(run_list)})')"
   ]
  },
  {
   "cell_type": "markdown",
   "metadata": {},
   "source": [
    "# finding good runs"
   ]
  },
  {
   "cell_type": "code",
   "execution_count": 7,
   "metadata": {},
   "outputs": [],
   "source": [
    "db_path = '/store/scratch/dqm/OMS/runs_latest.sql'"
   ]
  },
  {
   "cell_type": "code",
   "execution_count": 8,
   "metadata": {},
   "outputs": [],
   "source": [
    "connection = sqlite3.connect(db_path)\n",
    "connection.row_factory = dict_factory"
   ]
  },
  {
   "cell_type": "code",
   "execution_count": 9,
   "metadata": {},
   "outputs": [],
   "source": [
    "sql = \"\"\"\n",
    "SELECT\n",
    "    *\n",
    "FROM\n",
    "    runs\n",
    "WHERE\n",
    "    end_time IS NOT NULL\n",
    "    AND tier0_transfer = 1\n",
    "    AND GEM = 1\n",
    "    AND CSC = 1\n",
    "    AND DQM = 1\n",
    "    AND DAQ = 1\n",
    "    AND duration > ?\n",
    "\"\"\"\n",
    "\n",
    "min_duration = 10 * 60 # 10 min\n",
    "\n",
    "good_run_data = {row['run_number']: row for row in connection.execute(sql).fetchall()}"
   ]
  },
  {
   "cell_type": "code",
   "execution_count": 10,
   "metadata": {},
   "outputs": [],
   "source": [
    "dataset_to_good_runs = {dataset: [run for run in run_list if run in good_run_data] for dataset, run_list in dataset_to_runs.items()}"
   ]
  },
  {
   "cell_type": "code",
   "execution_count": 11,
   "metadata": {},
   "outputs": [
    {
     "name": "stdout",
     "output_type": "stream",
     "text": [
      "/SingleMuon/Run2022A-ZMu-PromptReco-v1/RAW-RECO : GOOD / ALL = 153 / 199 ( 76.9 %)\n",
      "/SingleMuon/Run2022B-ZMu-PromptReco-v1/RAW-RECO : GOOD / ALL =  85 /  90 ( 94.4 %)\n",
      "/SingleMuon/Run2022C-ZMu-PromptReco-v1/RAW-RECO : GOOD / ALL =  40 /  71 ( 56.3 %)\n",
      "/Muon/Run2022C-ZMu-PromptReco-v1/RAW-RECO       : GOOD / ALL =  18 / 140 ( 12.9 %)\n",
      "/Muon/Run2022D-ZMu-PromptReco-v1/RAW-RECO       : GOOD / ALL =  21 /  25 ( 84.0 %)\n",
      "/Muon/Run2022D-ZMu-PromptReco-v2/RAW-RECO       : GOOD / ALL =  49 /  52 ( 94.2 %)\n",
      "/Muon/Run2022D-ZMu-PromptReco-v3/RAW-RECO       : GOOD / ALL =   1 /   1 (100.0 %)\n"
     ]
    }
   ],
   "source": [
    "for dataset in dataset_list:\n",
    "    num_runs = len(dataset_to_runs[dataset])\n",
    "    num_good_runs = len(dataset_to_good_runs[dataset])\n",
    "    eff = 100 * num_good_runs / num_runs\n",
    "    print(f'{dataset: <48s}: GOOD / ALL = {num_good_runs: >3d} / {num_runs: >3d} ({eff: >5.1f} %)')"
   ]
  },
  {
   "cell_type": "markdown",
   "metadata": {},
   "source": [
    "# reprocessing targets"
   ]
  },
  {
   "cell_type": "code",
   "execution_count": 12,
   "metadata": {},
   "outputs": [],
   "source": [
    "reprocessing_target = []\n",
    "\n",
    "for dataset, run_list in dataset_to_good_runs.items():\n",
    "    cmssw_to_runs = defaultdict(list)\n",
    "    for run in run_list:\n",
    "        cmssw_version = good_run_data[run]['cmssw_version']\n",
    "        cmssw_to_runs[cmssw_version].append(run)\n",
    "\n",
    "    for cmssw, run_list in cmssw_to_runs.items():\n",
    "        reprocessing_target.append({\n",
    "            'dataset': dataset,\n",
    "            'cmssw': cmssw,\n",
    "            'runs': run_list\n",
    "        })"
   ]
  },
  {
   "cell_type": "code",
   "execution_count": 13,
   "metadata": {},
   "outputs": [],
   "source": [
    "with open('../data/reprocessing-target.json', 'w') as json_file:\n",
    "    json.dump(reprocessing_target, json_file, indent=4)"
   ]
  },
  {
   "cell_type": "code",
   "execution_count": 14,
   "metadata": {},
   "outputs": [
    {
     "name": "stdout",
     "output_type": "stream",
     "text": [
      "/SingleMuon/Run2022A-ZMu-PromptReco-v1/RAW-RECO | CMSSW_12_3_4_patch2 | num_runs=25\n",
      "/SingleMuon/Run2022A-ZMu-PromptReco-v1/RAW-RECO | CMSSW_12_3_4_patch3 | num_runs=36\n",
      "/SingleMuon/Run2022A-ZMu-PromptReco-v1/RAW-RECO | CMSSW_12_3_5        | num_runs=68\n",
      "/SingleMuon/Run2022A-ZMu-PromptReco-v1/RAW-RECO | CMSSW_12_3_6        | num_runs=24\n",
      "/SingleMuon/Run2022B-ZMu-PromptReco-v1/RAW-RECO | CMSSW_12_3_6        | num_runs=38\n",
      "/SingleMuon/Run2022B-ZMu-PromptReco-v1/RAW-RECO | CMSSW_12_3_7        | num_runs=41\n",
      "/SingleMuon/Run2022B-ZMu-PromptReco-v1/RAW-RECO | CMSSW_12_3_7_patch1 | num_runs= 6\n",
      "/SingleMuon/Run2022C-ZMu-PromptReco-v1/RAW-RECO | CMSSW_12_4_3        | num_runs=40\n",
      "/Muon/Run2022C-ZMu-PromptReco-v1/RAW-RECO       | CMSSW_12_4_5        | num_runs= 1\n",
      "/Muon/Run2022C-ZMu-PromptReco-v1/RAW-RECO       | CMSSW_12_4_6        | num_runs=17\n",
      "/Muon/Run2022D-ZMu-PromptReco-v1/RAW-RECO       | CMSSW_12_4_6        | num_runs=21\n",
      "/Muon/Run2022D-ZMu-PromptReco-v2/RAW-RECO       | CMSSW_12_4_6        | num_runs=49\n",
      "/Muon/Run2022D-ZMu-PromptReco-v3/RAW-RECO       | CMSSW_12_4_8        | num_runs= 1\n"
     ]
    }
   ],
   "source": [
    "for each in reprocessing_target:\n",
    "    dataset = each[\"dataset\"]\n",
    "    cmssw = each['cmssw']\n",
    "    num_runs = len(each['runs'])\n",
    "    print(f'{dataset: <47s} | {cmssw: <19s} | {num_runs=: >2d}')"
   ]
  },
  {
   "cell_type": "code",
   "execution_count": null,
   "metadata": {},
   "outputs": [],
   "source": []
  },
  {
   "cell_type": "code",
   "execution_count": null,
   "metadata": {},
   "outputs": [],
   "source": []
  }
 ],
 "metadata": {
  "kernelspec": {
   "display_name": "GEM DQM Analysis (Python 3.9)",
   "language": "python",
   "name": "gem-dqm-analysis-py39"
  },
  "language_info": {
   "codemirror_mode": {
    "name": "ipython",
    "version": 3
   },
   "file_extension": ".py",
   "mimetype": "text/x-python",
   "name": "python",
   "nbconvert_exporter": "python",
   "pygments_lexer": "ipython3",
   "version": "3.9.13"
  }
 },
 "nbformat": 4,
 "nbformat_minor": 4
}
